{
 "cells": [
  {
   "cell_type": "code",
   "execution_count": 1,
   "id": "146db88a",
   "metadata": {},
   "outputs": [],
   "source": [
    "import pandas as pd\n",
    "import numpy as np\n",
    "import sklearn\n"
   ]
  },
  {
   "cell_type": "code",
   "execution_count": 2,
   "id": "a30fd6fc",
   "metadata": {},
   "outputs": [],
   "source": [
    "watershed_bearriver = pd.read_excel(\"bearriver_01CD005_K_model.xlsx\")\n",
    "watershed_carruther = pd.read_excel(\"carruther_01CA003_P_model.xlsx\").dropna()\n",
    "watershed_wilmot    = pd.read_excel(\"wilmot_01CB004_P_model.xlsx\").dropna()\n",
    "watershed_dunkriver = pd.read_excel(\"dunkriver_01CB002_Q__model.xlsx\").dropna()\n",
    "watershed_winterriver= pd.read_excel(\"winterriver_01CC002_Q_model.xlsx\").dropna()\n",
    "\n"
   ]
  },
  {
   "cell_type": "code",
   "execution_count": 3,
   "id": "be215899",
   "metadata": {},
   "outputs": [],
   "source": [
    "title=\"watershed_winterriver\"\n",
    "df=watershed_winterriver[0:1826]\n",
    "df.name=title"
   ]
  },
  {
   "cell_type": "code",
   "execution_count": 6,
   "id": "a4077f54",
   "metadata": {},
   "outputs": [],
   "source": [
    "import seaborn as sns\n",
    "import matplotlib.pyplot as plt\n",
    "from matplotlib.pylab import rcParams\n",
    "sns.set_context('poster')\n",
    "#rcParams['font.size'] = 100\n",
    "rcParams['font.family'] = \"serif\""
   ]
  },
  {
   "cell_type": "code",
   "execution_count": 8,
   "id": "8ec346a1",
   "metadata": {},
   "outputs": [],
   "source": [
    "import matplotlib.pyplot as plt\n",
    "from matplotlib.pylab import rcParams\n",
    "rcParams['figure.figsize'] = 25,15\n",
    "rcParams['font.size'] = 22"
   ]
  },
  {
   "cell_type": "code",
   "execution_count": 25,
   "id": "ea459492",
   "metadata": {},
   "outputs": [
    {
     "data": {
      "text/html": [
       "<div>\n",
       "<style scoped>\n",
       "    .dataframe tbody tr th:only-of-type {\n",
       "        vertical-align: middle;\n",
       "    }\n",
       "\n",
       "    .dataframe tbody tr th {\n",
       "        vertical-align: top;\n",
       "    }\n",
       "\n",
       "    .dataframe thead th {\n",
       "        text-align: right;\n",
       "    }\n",
       "</style>\n",
       "<table border=\"1\" class=\"dataframe\">\n",
       "  <thead>\n",
       "    <tr style=\"text-align: right;\">\n",
       "      <th></th>\n",
       "      <th>Flow(m3/s)</th>\n",
       "      <th>Level(m)</th>\n",
       "      <th>Mean Temp (°C)</th>\n",
       "      <th>Heat Deg Days (°C)</th>\n",
       "      <th>Total Precip (mm)</th>\n",
       "      <th>Dew Point Temp (°C)</th>\n",
       "      <th>Rel Hum (%)</th>\n",
       "    </tr>\n",
       "    <tr>\n",
       "      <th>Date</th>\n",
       "      <th></th>\n",
       "      <th></th>\n",
       "      <th></th>\n",
       "      <th></th>\n",
       "      <th></th>\n",
       "      <th></th>\n",
       "      <th></th>\n",
       "    </tr>\n",
       "  </thead>\n",
       "  <tbody>\n",
       "    <tr>\n",
       "      <th>2018-01-01</th>\n",
       "      <td>0.354</td>\n",
       "      <td>0.427</td>\n",
       "      <td>-13.9</td>\n",
       "      <td>31.9</td>\n",
       "      <td>0.0</td>\n",
       "      <td>-16.737500</td>\n",
       "      <td>74.833333</td>\n",
       "    </tr>\n",
       "    <tr>\n",
       "      <th>2018-01-02</th>\n",
       "      <td>0.338</td>\n",
       "      <td>0.429</td>\n",
       "      <td>-14.5</td>\n",
       "      <td>32.5</td>\n",
       "      <td>0.0</td>\n",
       "      <td>-17.812500</td>\n",
       "      <td>76.875000</td>\n",
       "    </tr>\n",
       "    <tr>\n",
       "      <th>2018-01-03</th>\n",
       "      <td>0.324</td>\n",
       "      <td>0.430</td>\n",
       "      <td>-11.7</td>\n",
       "      <td>29.7</td>\n",
       "      <td>0.0</td>\n",
       "      <td>-18.316667</td>\n",
       "      <td>66.625000</td>\n",
       "    </tr>\n",
       "    <tr>\n",
       "      <th>2018-01-04</th>\n",
       "      <td>0.311</td>\n",
       "      <td>0.444</td>\n",
       "      <td>0.6</td>\n",
       "      <td>17.4</td>\n",
       "      <td>10.4</td>\n",
       "      <td>-3.370833</td>\n",
       "      <td>88.250000</td>\n",
       "    </tr>\n",
       "    <tr>\n",
       "      <th>2018-01-05</th>\n",
       "      <td>0.299</td>\n",
       "      <td>0.489</td>\n",
       "      <td>-4.2</td>\n",
       "      <td>22.2</td>\n",
       "      <td>0.6</td>\n",
       "      <td>-3.954167</td>\n",
       "      <td>77.416667</td>\n",
       "    </tr>\n",
       "    <tr>\n",
       "      <th>...</th>\n",
       "      <td>...</td>\n",
       "      <td>...</td>\n",
       "      <td>...</td>\n",
       "      <td>...</td>\n",
       "      <td>...</td>\n",
       "      <td>...</td>\n",
       "      <td>...</td>\n",
       "    </tr>\n",
       "    <tr>\n",
       "      <th>2019-12-27</th>\n",
       "      <td>0.534</td>\n",
       "      <td>0.440</td>\n",
       "      <td>-4.7</td>\n",
       "      <td>22.7</td>\n",
       "      <td>11.0</td>\n",
       "      <td>-6.520833</td>\n",
       "      <td>88.875000</td>\n",
       "    </tr>\n",
       "    <tr>\n",
       "      <th>2019-12-28</th>\n",
       "      <td>0.517</td>\n",
       "      <td>0.432</td>\n",
       "      <td>-0.3</td>\n",
       "      <td>18.3</td>\n",
       "      <td>0.0</td>\n",
       "      <td>-3.029167</td>\n",
       "      <td>78.375000</td>\n",
       "    </tr>\n",
       "    <tr>\n",
       "      <th>2019-12-29</th>\n",
       "      <td>0.500</td>\n",
       "      <td>0.429</td>\n",
       "      <td>-3.2</td>\n",
       "      <td>21.2</td>\n",
       "      <td>0.0</td>\n",
       "      <td>-8.095833</td>\n",
       "      <td>69.000000</td>\n",
       "    </tr>\n",
       "    <tr>\n",
       "      <th>2019-12-30</th>\n",
       "      <td>0.484</td>\n",
       "      <td>0.425</td>\n",
       "      <td>-2.1</td>\n",
       "      <td>20.1</td>\n",
       "      <td>3.5</td>\n",
       "      <td>-5.666667</td>\n",
       "      <td>78.416667</td>\n",
       "    </tr>\n",
       "    <tr>\n",
       "      <th>2019-12-31</th>\n",
       "      <td>0.471</td>\n",
       "      <td>0.424</td>\n",
       "      <td>-0.6</td>\n",
       "      <td>18.6</td>\n",
       "      <td>2.2</td>\n",
       "      <td>-4.779167</td>\n",
       "      <td>81.041667</td>\n",
       "    </tr>\n",
       "  </tbody>\n",
       "</table>\n",
       "<p>730 rows × 7 columns</p>\n",
       "</div>"
      ],
      "text/plain": [
       "            Flow(m3/s)  Level(m)  Mean Temp (°C)  Heat Deg Days (°C)  \\\n",
       "Date                                                                   \n",
       "2018-01-01       0.354     0.427           -13.9                31.9   \n",
       "2018-01-02       0.338     0.429           -14.5                32.5   \n",
       "2018-01-03       0.324     0.430           -11.7                29.7   \n",
       "2018-01-04       0.311     0.444             0.6                17.4   \n",
       "2018-01-05       0.299     0.489            -4.2                22.2   \n",
       "...                ...       ...             ...                 ...   \n",
       "2019-12-27       0.534     0.440            -4.7                22.7   \n",
       "2019-12-28       0.517     0.432            -0.3                18.3   \n",
       "2019-12-29       0.500     0.429            -3.2                21.2   \n",
       "2019-12-30       0.484     0.425            -2.1                20.1   \n",
       "2019-12-31       0.471     0.424            -0.6                18.6   \n",
       "\n",
       "            Total Precip (mm)  Dew Point Temp (°C)  Rel Hum (%)  \n",
       "Date                                                             \n",
       "2018-01-01                0.0           -16.737500    74.833333  \n",
       "2018-01-02                0.0           -17.812500    76.875000  \n",
       "2018-01-03                0.0           -18.316667    66.625000  \n",
       "2018-01-04               10.4            -3.370833    88.250000  \n",
       "2018-01-05                0.6            -3.954167    77.416667  \n",
       "...                       ...                  ...          ...  \n",
       "2019-12-27               11.0            -6.520833    88.875000  \n",
       "2019-12-28                0.0            -3.029167    78.375000  \n",
       "2019-12-29                0.0            -8.095833    69.000000  \n",
       "2019-12-30                3.5            -5.666667    78.416667  \n",
       "2019-12-31                2.2            -4.779167    81.041667  \n",
       "\n",
       "[730 rows x 7 columns]"
      ]
     },
     "execution_count": 25,
     "metadata": {},
     "output_type": "execute_result"
    }
   ],
   "source": []
  },
  {
   "cell_type": "code",
   "execution_count": 44,
   "id": "056b3520",
   "metadata": {},
   "outputs": [],
   "source": [
    "#plt.title('BEARRIVER')\n",
    "#plt.xlabel('Year')\n",
    "#plt.ylabel('Level(m)')\n",
    "#plt.plot(watershed_bearriver[\"Date\"],watershed_bearriver[\"Level(m)\"])"
   ]
  },
  {
   "cell_type": "code",
   "execution_count": 45,
   "id": "4b3161f0",
   "metadata": {},
   "outputs": [],
   "source": [
    "#plt.title('DUNKRIVER')\n",
    "#plt.xlabel('Year')\n",
    "#plt.ylabel('Level(m)')\n",
    "#plt.plot(watershed_dunkriver[\"Date\"],watershed_dunkriver[\"Level(m)\"])"
   ]
  },
  {
   "cell_type": "code",
   "execution_count": 46,
   "id": "3d2c2273",
   "metadata": {},
   "outputs": [],
   "source": [
    "#plt.title('WINTERRIVER')\n",
    "#plt.xlabel('Year')\n",
    "#plt.ylabel('Level(m)')\n",
    "#plt.plot(watershed_winterriver[\"Date\"],watershed_winterriver[\"Level(m)\"])"
   ]
  },
  {
   "cell_type": "markdown",
   "id": "cd15b7ea",
   "metadata": {},
   "source": [
    "# Train Test split \n",
    "# 2015-2017(3 year span-train)\n",
    "# 2018-2019(2 year span- test) "
   ]
  },
  {
   "cell_type": "code",
   "execution_count": 47,
   "id": "719a35dd",
   "metadata": {},
   "outputs": [
    {
     "data": {
      "text/plain": [
       "'watershed_winterriver'"
      ]
     },
     "execution_count": 47,
     "metadata": {},
     "output_type": "execute_result"
    }
   ],
   "source": [
    "df.name\n"
   ]
  },
  {
   "cell_type": "code",
   "execution_count": 48,
   "id": "459d4e51",
   "metadata": {},
   "outputs": [],
   "source": [
    "df['Date'] = pd.to_datetime(df['Date'])\n",
    "df = df.set_index(df['Date'])\n"
   ]
  },
  {
   "cell_type": "code",
   "execution_count": 49,
   "id": "1aa8c3e1",
   "metadata": {
    "scrolled": true
   },
   "outputs": [
    {
     "data": {
      "text/html": [
       "<div>\n",
       "<style scoped>\n",
       "    .dataframe tbody tr th:only-of-type {\n",
       "        vertical-align: middle;\n",
       "    }\n",
       "\n",
       "    .dataframe tbody tr th {\n",
       "        vertical-align: top;\n",
       "    }\n",
       "\n",
       "    .dataframe thead th {\n",
       "        text-align: right;\n",
       "    }\n",
       "</style>\n",
       "<table border=\"1\" class=\"dataframe\">\n",
       "  <thead>\n",
       "    <tr style=\"text-align: right;\">\n",
       "      <th></th>\n",
       "      <th>Date</th>\n",
       "      <th>Flow(m3/s)</th>\n",
       "      <th>Level(m)</th>\n",
       "      <th>Mean Temp (°C)</th>\n",
       "      <th>Heat Deg Days (°C)</th>\n",
       "      <th>Total Precip (mm)</th>\n",
       "      <th>Dew Point Temp (°C)</th>\n",
       "      <th>Rel Hum (%)</th>\n",
       "    </tr>\n",
       "    <tr>\n",
       "      <th>Date</th>\n",
       "      <th></th>\n",
       "      <th></th>\n",
       "      <th></th>\n",
       "      <th></th>\n",
       "      <th></th>\n",
       "      <th></th>\n",
       "      <th></th>\n",
       "      <th></th>\n",
       "    </tr>\n",
       "  </thead>\n",
       "  <tbody>\n",
       "    <tr>\n",
       "      <th>2015-01-01</th>\n",
       "      <td>2015-01-01</td>\n",
       "      <td>1.370</td>\n",
       "      <td>1.245</td>\n",
       "      <td>-9.3</td>\n",
       "      <td>27.3</td>\n",
       "      <td>0.2</td>\n",
       "      <td>-12.295833</td>\n",
       "      <td>71.041667</td>\n",
       "    </tr>\n",
       "    <tr>\n",
       "      <th>2015-01-02</th>\n",
       "      <td>2015-01-02</td>\n",
       "      <td>1.370</td>\n",
       "      <td>1.244</td>\n",
       "      <td>-7.1</td>\n",
       "      <td>25.1</td>\n",
       "      <td>0.2</td>\n",
       "      <td>-9.408333</td>\n",
       "      <td>70.166667</td>\n",
       "    </tr>\n",
       "    <tr>\n",
       "      <th>2015-01-03</th>\n",
       "      <td>2015-01-03</td>\n",
       "      <td>1.270</td>\n",
       "      <td>1.230</td>\n",
       "      <td>-14.0</td>\n",
       "      <td>32.0</td>\n",
       "      <td>0.0</td>\n",
       "      <td>-20.750000</td>\n",
       "      <td>58.958333</td>\n",
       "    </tr>\n",
       "    <tr>\n",
       "      <th>2015-01-04</th>\n",
       "      <td>2015-01-04</td>\n",
       "      <td>1.280</td>\n",
       "      <td>1.231</td>\n",
       "      <td>-2.8</td>\n",
       "      <td>20.8</td>\n",
       "      <td>8.8</td>\n",
       "      <td>-7.458333</td>\n",
       "      <td>86.916667</td>\n",
       "    </tr>\n",
       "    <tr>\n",
       "      <th>2015-01-05</th>\n",
       "      <td>2015-01-05</td>\n",
       "      <td>1.400</td>\n",
       "      <td>1.249</td>\n",
       "      <td>-4.6</td>\n",
       "      <td>22.6</td>\n",
       "      <td>3.6</td>\n",
       "      <td>-4.458333</td>\n",
       "      <td>76.750000</td>\n",
       "    </tr>\n",
       "    <tr>\n",
       "      <th>...</th>\n",
       "      <td>...</td>\n",
       "      <td>...</td>\n",
       "      <td>...</td>\n",
       "      <td>...</td>\n",
       "      <td>...</td>\n",
       "      <td>...</td>\n",
       "      <td>...</td>\n",
       "      <td>...</td>\n",
       "    </tr>\n",
       "    <tr>\n",
       "      <th>2019-12-27</th>\n",
       "      <td>2019-12-27</td>\n",
       "      <td>1.070</td>\n",
       "      <td>1.331</td>\n",
       "      <td>-4.7</td>\n",
       "      <td>22.7</td>\n",
       "      <td>11.0</td>\n",
       "      <td>-6.520833</td>\n",
       "      <td>88.875000</td>\n",
       "    </tr>\n",
       "    <tr>\n",
       "      <th>2019-12-28</th>\n",
       "      <td>2019-12-28</td>\n",
       "      <td>1.100</td>\n",
       "      <td>1.335</td>\n",
       "      <td>-0.3</td>\n",
       "      <td>18.3</td>\n",
       "      <td>0.0</td>\n",
       "      <td>-3.029167</td>\n",
       "      <td>78.375000</td>\n",
       "    </tr>\n",
       "    <tr>\n",
       "      <th>2019-12-29</th>\n",
       "      <td>2019-12-29</td>\n",
       "      <td>1.030</td>\n",
       "      <td>1.323</td>\n",
       "      <td>-3.2</td>\n",
       "      <td>21.2</td>\n",
       "      <td>0.0</td>\n",
       "      <td>-8.095833</td>\n",
       "      <td>69.000000</td>\n",
       "    </tr>\n",
       "    <tr>\n",
       "      <th>2019-12-30</th>\n",
       "      <td>2019-12-30</td>\n",
       "      <td>0.997</td>\n",
       "      <td>1.318</td>\n",
       "      <td>-2.1</td>\n",
       "      <td>20.1</td>\n",
       "      <td>3.5</td>\n",
       "      <td>-5.666667</td>\n",
       "      <td>78.416667</td>\n",
       "    </tr>\n",
       "    <tr>\n",
       "      <th>2019-12-31</th>\n",
       "      <td>2019-12-31</td>\n",
       "      <td>0.966</td>\n",
       "      <td>1.314</td>\n",
       "      <td>-0.6</td>\n",
       "      <td>18.6</td>\n",
       "      <td>2.2</td>\n",
       "      <td>-4.779167</td>\n",
       "      <td>81.041667</td>\n",
       "    </tr>\n",
       "  </tbody>\n",
       "</table>\n",
       "<p>1826 rows × 8 columns</p>\n",
       "</div>"
      ],
      "text/plain": [
       "                 Date  Flow(m3/s)  Level(m)  Mean Temp (°C)  \\\n",
       "Date                                                          \n",
       "2015-01-01 2015-01-01       1.370     1.245            -9.3   \n",
       "2015-01-02 2015-01-02       1.370     1.244            -7.1   \n",
       "2015-01-03 2015-01-03       1.270     1.230           -14.0   \n",
       "2015-01-04 2015-01-04       1.280     1.231            -2.8   \n",
       "2015-01-05 2015-01-05       1.400     1.249            -4.6   \n",
       "...               ...         ...       ...             ...   \n",
       "2019-12-27 2019-12-27       1.070     1.331            -4.7   \n",
       "2019-12-28 2019-12-28       1.100     1.335            -0.3   \n",
       "2019-12-29 2019-12-29       1.030     1.323            -3.2   \n",
       "2019-12-30 2019-12-30       0.997     1.318            -2.1   \n",
       "2019-12-31 2019-12-31       0.966     1.314            -0.6   \n",
       "\n",
       "            Heat Deg Days (°C)  Total Precip (mm)  Dew Point Temp (°C)  \\\n",
       "Date                                                                     \n",
       "2015-01-01                27.3                0.2           -12.295833   \n",
       "2015-01-02                25.1                0.2            -9.408333   \n",
       "2015-01-03                32.0                0.0           -20.750000   \n",
       "2015-01-04                20.8                8.8            -7.458333   \n",
       "2015-01-05                22.6                3.6            -4.458333   \n",
       "...                        ...                ...                  ...   \n",
       "2019-12-27                22.7               11.0            -6.520833   \n",
       "2019-12-28                18.3                0.0            -3.029167   \n",
       "2019-12-29                21.2                0.0            -8.095833   \n",
       "2019-12-30                20.1                3.5            -5.666667   \n",
       "2019-12-31                18.6                2.2            -4.779167   \n",
       "\n",
       "            Rel Hum (%)  \n",
       "Date                     \n",
       "2015-01-01    71.041667  \n",
       "2015-01-02    70.166667  \n",
       "2015-01-03    58.958333  \n",
       "2015-01-04    86.916667  \n",
       "2015-01-05    76.750000  \n",
       "...                 ...  \n",
       "2019-12-27    88.875000  \n",
       "2019-12-28    78.375000  \n",
       "2019-12-29    69.000000  \n",
       "2019-12-30    78.416667  \n",
       "2019-12-31    81.041667  \n",
       "\n",
       "[1826 rows x 8 columns]"
      ]
     },
     "execution_count": 49,
     "metadata": {},
     "output_type": "execute_result"
    }
   ],
   "source": [
    "df"
   ]
  },
  {
   "cell_type": "markdown",
   "id": "57a12b3c",
   "metadata": {},
   "source": [
    "# MIF on training data"
   ]
  },
  {
   "cell_type": "code",
   "execution_count": 51,
   "id": "c7e83288",
   "metadata": {},
   "outputs": [
    {
     "data": {
      "text/plain": [
       "array([2.84406691, 0.17538148, 0.15065826, 0.01286096, 0.13931453,\n",
       "       0.        ])"
      ]
     },
     "execution_count": 51,
     "metadata": {},
     "output_type": "execute_result"
    }
   ],
   "source": [
    "mif_train=df[[\"Flow(m3/s)\",\"Mean Temp (°C)\",\"Heat Deg Days (°C)\",\"Total Precip (mm)\",\"Dew Point Temp (°C)\",\"Rel Hum (%)\"]]\n",
    "mif_test=df[\"Level(m)\"]\n",
    "from sklearn.feature_selection import mutual_info_regression\n",
    "# determine the mutual information\n",
    "mutual_info = mutual_info_regression(mif_train,mif_test)\n",
    "mutual_info"
   ]
  },
  {
   "cell_type": "code",
   "execution_count": 52,
   "id": "d733f06f",
   "metadata": {},
   "outputs": [
    {
     "data": {
      "text/plain": [
       "Flow(m3/s)             2.844067\n",
       "Mean Temp (°C)         0.175381\n",
       "Heat Deg Days (°C)     0.150658\n",
       "Dew Point Temp (°C)    0.139315\n",
       "Total Precip (mm)      0.012861\n",
       "Rel Hum (%)            0.000000\n",
       "dtype: float64"
      ]
     },
     "execution_count": 52,
     "metadata": {},
     "output_type": "execute_result"
    }
   ],
   "source": [
    "mutual_info = pd.Series(mutual_info)\n",
    "mutual_info.index = mif_train.columns\n",
    "mutual_info.sort_values(ascending=False)"
   ]
  },
  {
   "cell_type": "code",
   "execution_count": 53,
   "id": "92587c4e",
   "metadata": {},
   "outputs": [
    {
     "data": {
      "text/plain": [
       "<AxesSubplot:>"
      ]
     },
     "execution_count": 53,
     "metadata": {},
     "output_type": "execute_result"
    },
    {
     "data": {
      "image/png": "[encoded data removed]",
      "text/plain": [
       "<Figure size 1080x360 with 1 Axes>"
      ]
     },
     "metadata": {},
     "output_type": "display_data"
    }
   ],
   "source": [
    "mutual_info.sort_values(ascending=False).plot.bar(figsize=(15,5))"
   ]
  },
  {
   "cell_type": "code",
   "execution_count": 60,
   "id": "e49dd8c5",
   "metadata": {},
   "outputs": [
    {
     "data": {
      "text/plain": [
       "SelectPercentile(percentile=50,\n",
       "                 score_func=<function mutual_info_regression at 0x000001A349346040>)"
      ]
     },
     "execution_count": 60,
     "metadata": {},
     "output_type": "execute_result"
    }
   ],
   "source": [
    "## Selecting the top 20/30 percentile\n",
    "from sklearn.feature_selection import SelectPercentile\n",
    "selected_top_columns = SelectPercentile(mutual_info_regression, percentile=50)\n",
    "selected_top_columns.fit(mif_train.fillna(0),mif_test)"
   ]
  },
  {
   "cell_type": "code",
   "execution_count": 61,
   "id": "01eb42af",
   "metadata": {},
   "outputs": [
    {
     "data": {
      "text/plain": [
       "array([ True,  True,  True, False, False, False])"
      ]
     },
     "execution_count": 61,
     "metadata": {},
     "output_type": "execute_result"
    }
   ],
   "source": [
    "selected_top_columns.get_support()"
   ]
  },
  {
   "cell_type": "code",
   "execution_count": 62,
   "id": "d2440f97",
   "metadata": {},
   "outputs": [
    {
     "data": {
      "text/plain": [
       "Index(['Flow(m3/s)', 'Mean Temp (°C)', 'Heat Deg Days (°C)'], dtype='object')"
      ]
     },
     "execution_count": 62,
     "metadata": {},
     "output_type": "execute_result"
    }
   ],
   "source": [
    "mif_train.columns[selected_top_columns.get_support()]"
   ]
  },
  {
   "cell_type": "code",
   "execution_count": null,
   "id": "604c49cd",
   "metadata": {},
   "outputs": [],
   "source": []
  },
  {
   "cell_type": "code",
   "execution_count": null,
   "id": "8ee366dc",
   "metadata": {},
   "outputs": [],
   "source": []
  },
  {
   "cell_type": "code",
   "execution_count": null,
   "id": "3f5aced5",
   "metadata": {},
   "outputs": [],
   "source": []
  },
  {
   "cell_type": "code",
   "execution_count": null,
   "id": "e8367b1d",
   "metadata": {},
   "outputs": [],
   "source": []
  },
  {
   "cell_type": "code",
   "execution_count": null,
   "id": "dfdbefb9",
   "metadata": {},
   "outputs": [],
   "source": []
  }
 ],
 "metadata": {
  "kernelspec": {
   "display_name": "Python 3 (ipykernel)",
   "language": "python",
   "name": "python3"
  },
  "language_info": {
   "codemirror_mode": {
    "name": "ipython",
    "version": 3
   },
   "file_extension": ".py",
   "mimetype": "text/x-python",
   "name": "python",
   "nbconvert_exporter": "python",
   "pygments_lexer": "ipython3",
   "version": "3.9.7"
  }
 },
 "nbformat": 4,
 "nbformat_minor": 5
}
