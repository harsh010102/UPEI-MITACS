{
 "cells": [
  {
   "cell_type": "code",
   "execution_count": 1,
   "id": "c12cffd7",
   "metadata": {},
   "outputs": [],
   "source": [
    "import pandas as pd"
   ]
  },
  {
   "cell_type": "code",
   "execution_count": 43,
   "id": "6f7c0706",
   "metadata": {},
   "outputs": [],
   "source": [
    "df = pd.read_excel(\"carruther_01CA003_P_model.xlsx\")[0:1826]"
   ]
  },
  {
   "cell_type": "code",
   "execution_count": 44,
   "id": "3ad79c71",
   "metadata": {},
   "outputs": [
    {
     "data": {
      "text/plain": [
       "Index(['Date', 'Flow(m3/s)', 'Level(m)', 'Mean Temp (°C)',\n",
       "       'Heat Deg Days (°C)', 'Total Precip (mm)', 'Dew Point Temp (°C)',\n",
       "       'Rel Hum (%)'],\n",
       "      dtype='object')"
      ]
     },
     "execution_count": 44,
     "metadata": {},
     "output_type": "execute_result"
    }
   ],
   "source": [
    "df.columns"
   ]
  },
  {
   "cell_type": "code",
   "execution_count": 45,
   "id": "bb09ae3c",
   "metadata": {},
   "outputs": [
    {
     "name": "stderr",
     "output_type": "stream",
     "text": [
      "C:\\Users\\admin\\AppData\\Local\\Temp/ipykernel_7980/3038578967.py:1: FutureWarning: Dropping of nuisance columns in DataFrame reductions (with 'numeric_only=None') is deprecated; in a future version this will raise TypeError.  Select only valid columns before calling the reduction.\n",
      "  df.skew(axis=0)\n"
     ]
    },
    {
     "data": {
      "text/plain": [
       "Flow(m3/s)             4.106946\n",
       "Level(m)               2.371826\n",
       "Mean Temp (°C)        -0.119058\n",
       "Heat Deg Days (°C)     0.285209\n",
       "Total Precip (mm)      3.780628\n",
       "Dew Point Temp (°C)   -0.244083\n",
       "Rel Hum (%)           -0.337861\n",
       "dtype: float64"
      ]
     },
     "execution_count": 45,
     "metadata": {},
     "output_type": "execute_result"
    }
   ],
   "source": [
    "df.skew(axis=0)"
   ]
  },
  {
   "cell_type": "code",
   "execution_count": 46,
   "id": "aa1868d8",
   "metadata": {},
   "outputs": [
    {
     "data": {
      "text/plain": [
       "count    1826.000000\n",
       "mean        2.213838\n",
       "std        10.270206\n",
       "min       -24.875000\n",
       "25%        -5.386458\n",
       "50%         2.527083\n",
       "75%        11.079167\n",
       "max        22.183333\n",
       "Name: Dew Point Temp (°C), dtype: float64"
      ]
     },
     "execution_count": 46,
     "metadata": {},
     "output_type": "execute_result"
    }
   ],
   "source": [
    "df[\"Dew Point Temp (°C)\"].describe()"
   ]
  },
  {
   "cell_type": "code",
   "execution_count": 47,
   "id": "752a32be",
   "metadata": {},
   "outputs": [
    {
     "data": {
      "text/plain": [
       "count    1826.000000\n",
       "mean        6.023658\n",
       "std        10.183398\n",
       "min       -19.700000\n",
       "25%        -1.800000\n",
       "50%         6.000000\n",
       "75%        14.775000\n",
       "max        25.200000\n",
       "Name: Mean Temp (°C), dtype: float64"
      ]
     },
     "execution_count": 47,
     "metadata": {},
     "output_type": "execute_result"
    }
   ],
   "source": [
    "df[\"Mean Temp (°C)\"].describe()"
   ]
  },
  {
   "cell_type": "code",
   "execution_count": 48,
   "id": "1bfad225",
   "metadata": {},
   "outputs": [
    {
     "data": {
      "text/plain": [
       "count    1826.000000\n",
       "mean       77.091133\n",
       "std        11.623630\n",
       "min        38.250000\n",
       "25%        69.208333\n",
       "50%        77.791667\n",
       "75%        85.875000\n",
       "max       100.000000\n",
       "Name: Rel Hum (%), dtype: float64"
      ]
     },
     "execution_count": 48,
     "metadata": {},
     "output_type": "execute_result"
    }
   ],
   "source": [
    "df[\"Rel Hum (%)\"].describe()"
   ]
  },
  {
   "cell_type": "code",
   "execution_count": 49,
   "id": "4d5af35a",
   "metadata": {},
   "outputs": [
    {
     "data": {
      "text/plain": [
       "count    1826.000000\n",
       "mean       12.385980\n",
       "std         9.599771\n",
       "min         0.000000\n",
       "25%         3.200000\n",
       "50%        12.000000\n",
       "75%        19.800000\n",
       "max        37.700000\n",
       "Name: Heat Deg Days (°C), dtype: float64"
      ]
     },
     "execution_count": 49,
     "metadata": {},
     "output_type": "execute_result"
    }
   ],
   "source": [
    "df[\"Heat Deg Days (°C)\"].describe()"
   ]
  },
  {
   "cell_type": "code",
   "execution_count": 50,
   "id": "9b2f7672",
   "metadata": {},
   "outputs": [
    {
     "data": {
      "text/plain": [
       "count    1826.000000\n",
       "mean        3.265674\n",
       "std         7.226879\n",
       "min         0.000000\n",
       "25%         0.000000\n",
       "50%         0.000000\n",
       "75%         2.800000\n",
       "max        74.000000\n",
       "Name: Total Precip (mm), dtype: float64"
      ]
     },
     "execution_count": 50,
     "metadata": {},
     "output_type": "execute_result"
    }
   ],
   "source": [
    "df[\"Total Precip (mm)\"].describe()"
   ]
  },
  {
   "cell_type": "code",
   "execution_count": 51,
   "id": "721c32b3",
   "metadata": {},
   "outputs": [
    {
     "data": {
      "text/plain": [
       "count    1826.000000\n",
       "mean        1.114135\n",
       "std         1.818729\n",
       "min         0.110000\n",
       "25%         0.267250\n",
       "50%         0.522500\n",
       "75%         1.077500\n",
       "max        20.200000\n",
       "Name: Flow(m3/s), dtype: float64"
      ]
     },
     "execution_count": 51,
     "metadata": {},
     "output_type": "execute_result"
    }
   ],
   "source": [
    "df[\"Flow(m3/s)\"].describe()"
   ]
  },
  {
   "cell_type": "code",
   "execution_count": 52,
   "id": "6af7ef75",
   "metadata": {},
   "outputs": [
    {
     "data": {
      "text/plain": [
       "count    1826.000000\n",
       "mean        0.494533\n",
       "std         0.214905\n",
       "min         0.293000\n",
       "25%         0.349000\n",
       "50%         0.436000\n",
       "75%         0.545750\n",
       "max         2.244000\n",
       "Name: Level(m), dtype: float64"
      ]
     },
     "execution_count": 52,
     "metadata": {},
     "output_type": "execute_result"
    }
   ],
   "source": [
    "df[\"Level(m)\"].describe()"
   ]
  }
 ],
 "metadata": {
  "kernelspec": {
   "display_name": "Python 3 (ipykernel)",
   "language": "python",
   "name": "python3"
  },
  "language_info": {
   "codemirror_mode": {
    "name": "ipython",
    "version": 3
   },
   "file_extension": ".py",
   "mimetype": "text/x-python",
   "name": "python",
   "nbconvert_exporter": "python",
   "pygments_lexer": "ipython3",
   "version": "3.9.7"
  }
 },
 "nbformat": 4,
 "nbformat_minor": 5
}
